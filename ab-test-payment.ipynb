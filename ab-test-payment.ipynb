{
 "cells": [
  {
   "cell_type": "code",
   "execution_count": 79,
   "metadata": {},
   "outputs": [],
   "source": [
    "# Импортируем необходимые библиотеки для анализа данных\n",
    "\n",
    "import numpy as np\n",
    "import pandas as pd\n",
    "import scipy.stats as ss\n",
    "import seaborn as sns\n",
    "import matplotlib.pyplot as plt\n",
    "from statsmodels.stats.proportion import proportions_ztest"
   ]
  },
  {
   "cell_type": "code",
   "execution_count": 80,
   "metadata": {},
   "outputs": [],
   "source": [
    "# Считаем все дата-сеты и посмотрим на их содержимое/типы данных"
   ]
  },
  {
   "cell_type": "code",
   "execution_count": 81,
   "metadata": {},
   "outputs": [
    {
     "data": {
      "text/html": [
       "<div>\n",
       "<style scoped>\n",
       "    .dataframe tbody tr th:only-of-type {\n",
       "        vertical-align: middle;\n",
       "    }\n",
       "\n",
       "    .dataframe tbody tr th {\n",
       "        vertical-align: top;\n",
       "    }\n",
       "\n",
       "    .dataframe thead th {\n",
       "        text-align: right;\n",
       "    }\n",
       "</style>\n",
       "<table border=\"1\" class=\"dataframe\">\n",
       "  <thead>\n",
       "    <tr style=\"text-align: right;\">\n",
       "      <th></th>\n",
       "      <th>id</th>\n",
       "      <th>grp</th>\n",
       "    </tr>\n",
       "  </thead>\n",
       "  <tbody>\n",
       "    <tr>\n",
       "      <th>0</th>\n",
       "      <td>1489</td>\n",
       "      <td>B</td>\n",
       "    </tr>\n",
       "    <tr>\n",
       "      <th>1</th>\n",
       "      <td>1627</td>\n",
       "      <td>A</td>\n",
       "    </tr>\n",
       "    <tr>\n",
       "      <th>2</th>\n",
       "      <td>1768</td>\n",
       "      <td>B</td>\n",
       "    </tr>\n",
       "    <tr>\n",
       "      <th>3</th>\n",
       "      <td>1783</td>\n",
       "      <td>B</td>\n",
       "    </tr>\n",
       "    <tr>\n",
       "      <th>4</th>\n",
       "      <td>1794</td>\n",
       "      <td>A</td>\n",
       "    </tr>\n",
       "  </tbody>\n",
       "</table>\n",
       "</div>"
      ],
      "text/plain": [
       "     id grp\n",
       "0  1489   B\n",
       "1  1627   A\n",
       "2  1768   B\n",
       "3  1783   B\n",
       "4  1794   A"
      ]
     },
     "execution_count": 81,
     "metadata": {},
     "output_type": "execute_result"
    }
   ],
   "source": [
    "groups = pd.read_csv('groups.csv', sep=';')\n",
    "groups.head()"
   ]
  },
  {
   "cell_type": "code",
   "execution_count": 82,
   "metadata": {},
   "outputs": [
    {
     "name": "stdout",
     "output_type": "stream",
     "text": [
      "<class 'pandas.core.frame.DataFrame'>\n",
      "RangeIndex: 74484 entries, 0 to 74483\n",
      "Data columns (total 2 columns):\n",
      " #   Column  Non-Null Count  Dtype \n",
      "---  ------  --------------  ----- \n",
      " 0   id      74484 non-null  int64 \n",
      " 1   grp     74484 non-null  object\n",
      "dtypes: int64(1), object(1)\n",
      "memory usage: 1.1+ MB\n"
     ]
    }
   ],
   "source": [
    "groups.info()"
   ]
  },
  {
   "cell_type": "code",
   "execution_count": 83,
   "metadata": {},
   "outputs": [
    {
     "data": {
      "text/html": [
       "<div>\n",
       "<style scoped>\n",
       "    .dataframe tbody tr th:only-of-type {\n",
       "        vertical-align: middle;\n",
       "    }\n",
       "\n",
       "    .dataframe tbody tr th {\n",
       "        vertical-align: top;\n",
       "    }\n",
       "\n",
       "    .dataframe thead th {\n",
       "        text-align: right;\n",
       "    }\n",
       "</style>\n",
       "<table border=\"1\" class=\"dataframe\">\n",
       "  <thead>\n",
       "    <tr style=\"text-align: right;\">\n",
       "      <th></th>\n",
       "      <th>id</th>\n",
       "      <th>grp</th>\n",
       "    </tr>\n",
       "  </thead>\n",
       "  <tbody>\n",
       "    <tr>\n",
       "      <th>0</th>\n",
       "      <td>5694584</td>\n",
       "      <td>B</td>\n",
       "    </tr>\n",
       "    <tr>\n",
       "      <th>1</th>\n",
       "      <td>5694830</td>\n",
       "      <td>B</td>\n",
       "    </tr>\n",
       "    <tr>\n",
       "      <th>2</th>\n",
       "      <td>5695057</td>\n",
       "      <td>B</td>\n",
       "    </tr>\n",
       "    <tr>\n",
       "      <th>3</th>\n",
       "      <td>5698872</td>\n",
       "      <td>B</td>\n",
       "    </tr>\n",
       "    <tr>\n",
       "      <th>4</th>\n",
       "      <td>5699067</td>\n",
       "      <td>B</td>\n",
       "    </tr>\n",
       "  </tbody>\n",
       "</table>\n",
       "</div>"
      ],
      "text/plain": [
       "        id grp\n",
       "0  5694584   B\n",
       "1  5694830   B\n",
       "2  5695057   B\n",
       "3  5698872   B\n",
       "4  5699067   B"
      ]
     },
     "execution_count": 83,
     "metadata": {},
     "output_type": "execute_result"
    }
   ],
   "source": [
    "group_add = pd.read_csv('group_add.csv')\n",
    "group_add.head()"
   ]
  },
  {
   "cell_type": "code",
   "execution_count": 84,
   "metadata": {},
   "outputs": [
    {
     "name": "stdout",
     "output_type": "stream",
     "text": [
      "<class 'pandas.core.frame.DataFrame'>\n",
      "RangeIndex: 92 entries, 0 to 91\n",
      "Data columns (total 2 columns):\n",
      " #   Column  Non-Null Count  Dtype \n",
      "---  ------  --------------  ----- \n",
      " 0   id      92 non-null     int64 \n",
      " 1   grp     92 non-null     object\n",
      "dtypes: int64(1), object(1)\n",
      "memory usage: 1.6+ KB\n"
     ]
    }
   ],
   "source": [
    "group_add.info()"
   ]
  },
  {
   "cell_type": "code",
   "execution_count": 85,
   "metadata": {},
   "outputs": [
    {
     "data": {
      "text/html": [
       "<div>\n",
       "<style scoped>\n",
       "    .dataframe tbody tr th:only-of-type {\n",
       "        vertical-align: middle;\n",
       "    }\n",
       "\n",
       "    .dataframe tbody tr th {\n",
       "        vertical-align: top;\n",
       "    }\n",
       "\n",
       "    .dataframe thead th {\n",
       "        text-align: right;\n",
       "    }\n",
       "</style>\n",
       "<table border=\"1\" class=\"dataframe\">\n",
       "  <thead>\n",
       "    <tr style=\"text-align: right;\">\n",
       "      <th></th>\n",
       "      <th>student_id</th>\n",
       "    </tr>\n",
       "  </thead>\n",
       "  <tbody>\n",
       "    <tr>\n",
       "      <th>0</th>\n",
       "      <td>581585</td>\n",
       "    </tr>\n",
       "    <tr>\n",
       "      <th>1</th>\n",
       "      <td>5723133</td>\n",
       "    </tr>\n",
       "    <tr>\n",
       "      <th>2</th>\n",
       "      <td>3276743</td>\n",
       "    </tr>\n",
       "    <tr>\n",
       "      <th>3</th>\n",
       "      <td>4238589</td>\n",
       "    </tr>\n",
       "    <tr>\n",
       "      <th>4</th>\n",
       "      <td>4475369</td>\n",
       "    </tr>\n",
       "  </tbody>\n",
       "</table>\n",
       "</div>"
      ],
      "text/plain": [
       "   student_id\n",
       "0      581585\n",
       "1     5723133\n",
       "2     3276743\n",
       "3     4238589\n",
       "4     4475369"
      ]
     },
     "execution_count": 85,
     "metadata": {},
     "output_type": "execute_result"
    }
   ],
   "source": [
    "active_studs = pd.read_csv('active_studs.csv')\n",
    "active_studs.head()"
   ]
  },
  {
   "cell_type": "code",
   "execution_count": 86,
   "metadata": {},
   "outputs": [
    {
     "name": "stdout",
     "output_type": "stream",
     "text": [
      "<class 'pandas.core.frame.DataFrame'>\n",
      "RangeIndex: 8341 entries, 0 to 8340\n",
      "Data columns (total 1 columns):\n",
      " #   Column      Non-Null Count  Dtype\n",
      "---  ------      --------------  -----\n",
      " 0   student_id  8341 non-null   int64\n",
      "dtypes: int64(1)\n",
      "memory usage: 65.3 KB\n"
     ]
    }
   ],
   "source": [
    "active_studs.info()"
   ]
  },
  {
   "cell_type": "code",
   "execution_count": 87,
   "metadata": {},
   "outputs": [
    {
     "data": {
      "text/html": [
       "<div>\n",
       "<style scoped>\n",
       "    .dataframe tbody tr th:only-of-type {\n",
       "        vertical-align: middle;\n",
       "    }\n",
       "\n",
       "    .dataframe tbody tr th {\n",
       "        vertical-align: top;\n",
       "    }\n",
       "\n",
       "    .dataframe thead th {\n",
       "        text-align: right;\n",
       "    }\n",
       "</style>\n",
       "<table border=\"1\" class=\"dataframe\">\n",
       "  <thead>\n",
       "    <tr style=\"text-align: right;\">\n",
       "      <th></th>\n",
       "      <th>student_id</th>\n",
       "      <th>rev</th>\n",
       "    </tr>\n",
       "  </thead>\n",
       "  <tbody>\n",
       "    <tr>\n",
       "      <th>0</th>\n",
       "      <td>1627</td>\n",
       "      <td>990.0</td>\n",
       "    </tr>\n",
       "    <tr>\n",
       "      <th>1</th>\n",
       "      <td>3185</td>\n",
       "      <td>690.0</td>\n",
       "    </tr>\n",
       "    <tr>\n",
       "      <th>2</th>\n",
       "      <td>25973</td>\n",
       "      <td>690.0</td>\n",
       "    </tr>\n",
       "    <tr>\n",
       "      <th>3</th>\n",
       "      <td>26280</td>\n",
       "      <td>690.0</td>\n",
       "    </tr>\n",
       "    <tr>\n",
       "      <th>4</th>\n",
       "      <td>100300</td>\n",
       "      <td>990.0</td>\n",
       "    </tr>\n",
       "  </tbody>\n",
       "</table>\n",
       "</div>"
      ],
      "text/plain": [
       "   student_id    rev\n",
       "0        1627  990.0\n",
       "1        3185  690.0\n",
       "2       25973  690.0\n",
       "3       26280  690.0\n",
       "4      100300  990.0"
      ]
     },
     "execution_count": 87,
     "metadata": {},
     "output_type": "execute_result"
    }
   ],
   "source": [
    "checks = pd.read_csv('checks.csv', sep=';')\n",
    "checks.head()"
   ]
  },
  {
   "cell_type": "code",
   "execution_count": 88,
   "metadata": {},
   "outputs": [
    {
     "name": "stdout",
     "output_type": "stream",
     "text": [
      "<class 'pandas.core.frame.DataFrame'>\n",
      "RangeIndex: 541 entries, 0 to 540\n",
      "Data columns (total 2 columns):\n",
      " #   Column      Non-Null Count  Dtype  \n",
      "---  ------      --------------  -----  \n",
      " 0   student_id  541 non-null    int64  \n",
      " 1   rev         541 non-null    float64\n",
      "dtypes: float64(1), int64(1)\n",
      "memory usage: 8.6 KB\n"
     ]
    }
   ],
   "source": [
    "checks.info()"
   ]
  },
  {
   "cell_type": "code",
   "execution_count": 89,
   "metadata": {},
   "outputs": [
    {
     "data": {
      "text/html": [
       "<div>\n",
       "<style scoped>\n",
       "    .dataframe tbody tr th:only-of-type {\n",
       "        vertical-align: middle;\n",
       "    }\n",
       "\n",
       "    .dataframe tbody tr th {\n",
       "        vertical-align: top;\n",
       "    }\n",
       "\n",
       "    .dataframe thead th {\n",
       "        text-align: right;\n",
       "    }\n",
       "</style>\n",
       "<table border=\"1\" class=\"dataframe\">\n",
       "  <thead>\n",
       "    <tr style=\"text-align: right;\">\n",
       "      <th></th>\n",
       "      <th>id</th>\n",
       "      <th>grp</th>\n",
       "    </tr>\n",
       "  </thead>\n",
       "  <tbody>\n",
       "    <tr>\n",
       "      <th>0</th>\n",
       "      <td>1489</td>\n",
       "      <td>B</td>\n",
       "    </tr>\n",
       "    <tr>\n",
       "      <th>1</th>\n",
       "      <td>1627</td>\n",
       "      <td>A</td>\n",
       "    </tr>\n",
       "    <tr>\n",
       "      <th>2</th>\n",
       "      <td>1768</td>\n",
       "      <td>B</td>\n",
       "    </tr>\n",
       "    <tr>\n",
       "      <th>3</th>\n",
       "      <td>1783</td>\n",
       "      <td>B</td>\n",
       "    </tr>\n",
       "    <tr>\n",
       "      <th>4</th>\n",
       "      <td>1794</td>\n",
       "      <td>A</td>\n",
       "    </tr>\n",
       "    <tr>\n",
       "      <th>...</th>\n",
       "      <td>...</td>\n",
       "      <td>...</td>\n",
       "    </tr>\n",
       "    <tr>\n",
       "      <th>87</th>\n",
       "      <td>200247820</td>\n",
       "      <td>B</td>\n",
       "    </tr>\n",
       "    <tr>\n",
       "      <th>88</th>\n",
       "      <td>201032527</td>\n",
       "      <td>B</td>\n",
       "    </tr>\n",
       "    <tr>\n",
       "      <th>89</th>\n",
       "      <td>201067612</td>\n",
       "      <td>B</td>\n",
       "    </tr>\n",
       "    <tr>\n",
       "      <th>90</th>\n",
       "      <td>201067653</td>\n",
       "      <td>B</td>\n",
       "    </tr>\n",
       "    <tr>\n",
       "      <th>91</th>\n",
       "      <td>201067659</td>\n",
       "      <td>B</td>\n",
       "    </tr>\n",
       "  </tbody>\n",
       "</table>\n",
       "<p>74576 rows × 2 columns</p>\n",
       "</div>"
      ],
      "text/plain": [
       "           id grp\n",
       "0        1489   B\n",
       "1        1627   A\n",
       "2        1768   B\n",
       "3        1783   B\n",
       "4        1794   A\n",
       "..        ...  ..\n",
       "87  200247820   B\n",
       "88  201032527   B\n",
       "89  201067612   B\n",
       "90  201067653   B\n",
       "91  201067659   B\n",
       "\n",
       "[74576 rows x 2 columns]"
      ]
     },
     "execution_count": 89,
     "metadata": {},
     "output_type": "execute_result"
    }
   ],
   "source": [
    "# Добавим информацию о пользователях, полученную через 2 дня, в основной файл:\n",
    "groups = pd.concat([groups, group_add])\n",
    "groups"
   ]
  },
  {
   "cell_type": "code",
   "execution_count": 90,
   "metadata": {},
   "outputs": [],
   "source": [
    "# Отберём только тех пользователей, которые заходили на платформу в дни эксперимента:\n",
    "\n",
    "groups = groups.rename(columns={'id': 'student_id'}) #переименуем колонку, на основании которой вмёрджим только активных в дни эксперимента пользователей\n",
    "filtered_groups = groups.merge(active_studs, on='student_id', how='inner')"
   ]
  },
  {
   "cell_type": "code",
   "execution_count": 91,
   "metadata": {},
   "outputs": [
    {
     "data": {
      "text/html": [
       "<div>\n",
       "<style scoped>\n",
       "    .dataframe tbody tr th:only-of-type {\n",
       "        vertical-align: middle;\n",
       "    }\n",
       "\n",
       "    .dataframe tbody tr th {\n",
       "        vertical-align: top;\n",
       "    }\n",
       "\n",
       "    .dataframe thead th {\n",
       "        text-align: right;\n",
       "    }\n",
       "</style>\n",
       "<table border=\"1\" class=\"dataframe\">\n",
       "  <thead>\n",
       "    <tr style=\"text-align: right;\">\n",
       "      <th></th>\n",
       "      <th>student_id</th>\n",
       "      <th>grp</th>\n",
       "      <th>rev</th>\n",
       "    </tr>\n",
       "  </thead>\n",
       "  <tbody>\n",
       "    <tr>\n",
       "      <th>0</th>\n",
       "      <td>1627</td>\n",
       "      <td>A</td>\n",
       "      <td>990.0</td>\n",
       "    </tr>\n",
       "    <tr>\n",
       "      <th>1</th>\n",
       "      <td>2085</td>\n",
       "      <td>B</td>\n",
       "      <td>NaN</td>\n",
       "    </tr>\n",
       "    <tr>\n",
       "      <th>2</th>\n",
       "      <td>2215</td>\n",
       "      <td>B</td>\n",
       "      <td>NaN</td>\n",
       "    </tr>\n",
       "    <tr>\n",
       "      <th>3</th>\n",
       "      <td>3391</td>\n",
       "      <td>A</td>\n",
       "      <td>NaN</td>\n",
       "    </tr>\n",
       "    <tr>\n",
       "      <th>4</th>\n",
       "      <td>3401</td>\n",
       "      <td>B</td>\n",
       "      <td>NaN</td>\n",
       "    </tr>\n",
       "    <tr>\n",
       "      <th>...</th>\n",
       "      <td>...</td>\n",
       "      <td>...</td>\n",
       "      <td>...</td>\n",
       "    </tr>\n",
       "    <tr>\n",
       "      <th>8336</th>\n",
       "      <td>5760471</td>\n",
       "      <td>B</td>\n",
       "      <td>NaN</td>\n",
       "    </tr>\n",
       "    <tr>\n",
       "      <th>8337</th>\n",
       "      <td>5777081</td>\n",
       "      <td>B</td>\n",
       "      <td>NaN</td>\n",
       "    </tr>\n",
       "    <tr>\n",
       "      <th>8338</th>\n",
       "      <td>5870856</td>\n",
       "      <td>A</td>\n",
       "      <td>NaN</td>\n",
       "    </tr>\n",
       "    <tr>\n",
       "      <th>8339</th>\n",
       "      <td>5945085</td>\n",
       "      <td>B</td>\n",
       "      <td>NaN</td>\n",
       "    </tr>\n",
       "    <tr>\n",
       "      <th>8340</th>\n",
       "      <td>5951797</td>\n",
       "      <td>B</td>\n",
       "      <td>NaN</td>\n",
       "    </tr>\n",
       "  </tbody>\n",
       "</table>\n",
       "<p>8341 rows × 3 columns</p>\n",
       "</div>"
      ],
      "text/plain": [
       "      student_id grp    rev\n",
       "0           1627   A  990.0\n",
       "1           2085   B    NaN\n",
       "2           2215   B    NaN\n",
       "3           3391   A    NaN\n",
       "4           3401   B    NaN\n",
       "...          ...  ..    ...\n",
       "8336     5760471   B    NaN\n",
       "8337     5777081   B    NaN\n",
       "8338     5870856   A    NaN\n",
       "8339     5945085   B    NaN\n",
       "8340     5951797   B    NaN\n",
       "\n",
       "[8341 rows x 3 columns]"
      ]
     },
     "execution_count": 91,
     "metadata": {},
     "output_type": "execute_result"
    }
   ],
   "source": [
    "# Добавим информацию об оплатах пользователей в дни проведения эксперимента:\n",
    "\n",
    "df = filtered_groups.merge(checks, on='student_id', how='left')\n",
    "df"
   ]
  },
  {
   "cell_type": "code",
   "execution_count": 92,
   "metadata": {},
   "outputs": [
    {
     "data": {
      "text/plain": [
       "(392, 3)"
      ]
     },
     "execution_count": 92,
     "metadata": {},
     "output_type": "execute_result"
    }
   ],
   "source": [
    "# Проверим, сколько у нас получилось активных платящих пользователей:\n",
    "\n",
    "df[df.rev > 0].shape"
   ]
  },
  {
   "cell_type": "code",
   "execution_count": 93,
   "metadata": {},
   "outputs": [
    {
     "data": {
      "text/html": [
       "<div>\n",
       "<style scoped>\n",
       "    .dataframe tbody tr th:only-of-type {\n",
       "        vertical-align: middle;\n",
       "    }\n",
       "\n",
       "    .dataframe tbody tr th {\n",
       "        vertical-align: top;\n",
       "    }\n",
       "\n",
       "    .dataframe thead th {\n",
       "        text-align: right;\n",
       "    }\n",
       "</style>\n",
       "<table border=\"1\" class=\"dataframe\">\n",
       "  <thead>\n",
       "    <tr style=\"text-align: right;\">\n",
       "      <th></th>\n",
       "      <th>student_id</th>\n",
       "      <th>rev</th>\n",
       "    </tr>\n",
       "  </thead>\n",
       "  <tbody>\n",
       "    <tr>\n",
       "      <th>0</th>\n",
       "      <td>1184303</td>\n",
       "      <td>1530.0000</td>\n",
       "    </tr>\n",
       "    <tr>\n",
       "      <th>1</th>\n",
       "      <td>3354191</td>\n",
       "      <td>1900.0001</td>\n",
       "    </tr>\n",
       "    <tr>\n",
       "      <th>2</th>\n",
       "      <td>3278734</td>\n",
       "      <td>1900.0000</td>\n",
       "    </tr>\n",
       "    <tr>\n",
       "      <th>3</th>\n",
       "      <td>720651</td>\n",
       "      <td>1980.0000</td>\n",
       "    </tr>\n",
       "    <tr>\n",
       "      <th>4</th>\n",
       "      <td>1232221</td>\n",
       "      <td>1900.0000</td>\n",
       "    </tr>\n",
       "    <tr>\n",
       "      <th>...</th>\n",
       "      <td>...</td>\n",
       "      <td>...</td>\n",
       "    </tr>\n",
       "    <tr>\n",
       "      <th>387</th>\n",
       "      <td>3890326</td>\n",
       "      <td>199.0000</td>\n",
       "    </tr>\n",
       "    <tr>\n",
       "      <th>388</th>\n",
       "      <td>1390994</td>\n",
       "      <td>398.0000</td>\n",
       "    </tr>\n",
       "    <tr>\n",
       "      <th>389</th>\n",
       "      <td>1516339</td>\n",
       "      <td>290.0000</td>\n",
       "    </tr>\n",
       "    <tr>\n",
       "      <th>390</th>\n",
       "      <td>3910596</td>\n",
       "      <td>597.0000</td>\n",
       "    </tr>\n",
       "    <tr>\n",
       "      <th>391</th>\n",
       "      <td>3610547</td>\n",
       "      <td>290.0000</td>\n",
       "    </tr>\n",
       "  </tbody>\n",
       "</table>\n",
       "<p>392 rows × 2 columns</p>\n",
       "</div>"
      ],
      "text/plain": [
       "     student_id        rev\n",
       "0       1184303  1530.0000\n",
       "1       3354191  1900.0001\n",
       "2       3278734  1900.0000\n",
       "3        720651  1980.0000\n",
       "4       1232221  1900.0000\n",
       "..          ...        ...\n",
       "387     3890326   199.0000\n",
       "388     1390994   398.0000\n",
       "389     1516339   290.0000\n",
       "390     3910596   597.0000\n",
       "391     3610547   290.0000\n",
       "\n",
       "[392 rows x 2 columns]"
      ]
     },
     "execution_count": 93,
     "metadata": {},
     "output_type": "execute_result"
    }
   ],
   "source": [
    "# По какой-то причине из 541й оплаты в финальном датафрейме осталось только 392 записи.\n",
    "# Значит в данных есть какой-то баг. Скорее всего, есть пользователи, которые оплатили (их id есть в таблице checks), но при этом они не активные (их id нет в таблице active_studs)\n",
    "# Давайте это проверим. Для этого замерджим таблицу active_studs и checks по id пользователей:\n",
    "\n",
    "active_studs.merge(checks, on='student_id', how='inner')"
   ]
  },
  {
   "cell_type": "code",
   "execution_count": 94,
   "metadata": {},
   "outputs": [
    {
     "name": "stdout",
     "output_type": "stream",
     "text": [
      "Недостающих студентов: 149\n"
     ]
    }
   ],
   "source": [
    "# И действительно мы видим, что строк осталось только 392.\n",
    "# Соответственно чтобы это исправить, необходимо добавить в таблицу active_studs информацию о 149 id, которые почему-то ранее не попали в неё.\n",
    "# Для этого:\n",
    "\n",
    "# Получаем ID студентов, которых не хватает\n",
    "missing_ids = set(checks['student_id']) - set(active_studs['student_id'])\n",
    "print(f'Недостающих студентов: {len(missing_ids)}')\n",
    "\n",
    "# Создаём датафрейм с недостающими студентами\n",
    "missing_df = pd.DataFrame({'student_id': list(missing_ids)})\n",
    "\n",
    "# Объединяем с активными\n",
    "active_updated = pd.concat([active_studs, missing_df], ignore_index=True).drop_duplicates()"
   ]
  },
  {
   "cell_type": "code",
   "execution_count": 95,
   "metadata": {},
   "outputs": [
    {
     "data": {
      "text/plain": [
       "(541, 3)"
      ]
     },
     "execution_count": 95,
     "metadata": {},
     "output_type": "execute_result"
    }
   ],
   "source": [
    "# И теперь добавим к нашему финальному датафрейму 149 недостающих записей об оплатах:\n",
    "\n",
    "filtered_groups = groups.merge(active_updated, on='student_id', how='inner')\n",
    "df = filtered_groups.merge(checks, on='student_id', how='left')\n",
    "\n",
    "# Проверим, действительно ли теперь есть записи обо всех активных и платящих пользователях:\n",
    "df[df.rev > 0].shape"
   ]
  },
  {
   "cell_type": "code",
   "execution_count": 96,
   "metadata": {},
   "outputs": [],
   "source": [
    "# Да, все ОК. Теперь теперь все 541 оплаты учтены в финальном датафрейме.\n",
    "# Предобработка данных завершена. Приступим к самому анализу метрик и поиску инсайтов."
   ]
  },
  {
   "cell_type": "code",
   "execution_count": 97,
   "metadata": {},
   "outputs": [
    {
     "data": {
      "text/plain": [
       "<matplotlib.axes._subplots.AxesSubplot at 0x7fddb49e8da0>"
      ]
     },
     "execution_count": 97,
     "metadata": {},
     "output_type": "execute_result"
    },
    {
     "data": {
      "image/png": "[encoded data removed]",
      "text/plain": [
       "<Figure size 432x288 with 1 Axes>"
      ]
     },
     "metadata": {
      "needs_background": "light"
     },
     "output_type": "display_data"
    }
   ],
   "source": [
    "# Посмотрим на распределение выручки в разрезе групп:\n",
    "\n",
    "sns.histplot(data=df, x='rev', hue='grp', bins=20, kde=True, element='step')"
   ]
  },
  {
   "cell_type": "code",
   "execution_count": 98,
   "metadata": {},
   "outputs": [
    {
     "name": "stdout",
     "output_type": "stream",
     "text": [
      "      cnt\n",
      "grp      \n",
      "A    1567\n",
      "B    6923\n"
     ]
    }
   ],
   "source": [
    "# Как видно из графика выше, по тестовой группе оплат у нас больше.\n",
    "# Давайте теперь более детально посмотрим, сколько студентов и оплат в каждой группе, а также какая конверсия в оплату у разных групп.\n",
    "\n",
    "# Кол-во Студентов:\n",
    "\n",
    "group_sizes = df.groupby('grp').agg({'student_id': 'count'}).rename(columns=({'student_id': 'cnt'}))\n",
    "print(group_sizes)"
   ]
  },
  {
   "cell_type": "code",
   "execution_count": 99,
   "metadata": {},
   "outputs": [
    {
     "name": "stdout",
     "output_type": "stream",
     "text": [
      "     cnt\n",
      "grp     \n",
      "A    107\n",
      "B    434\n"
     ]
    }
   ],
   "source": [
    "# Кол-во Оплат:\n",
    "\n",
    "payments = df.groupby('grp').agg({'rev': 'count'}).rename(columns=({'rev': 'cnt'}))\n",
    "print(payments)"
   ]
  },
  {
   "cell_type": "code",
   "execution_count": 100,
   "metadata": {},
   "outputs": [
    {
     "name": "stdout",
     "output_type": "stream",
     "text": [
      "          cnt\n",
      "grp          \n",
      "A    0.068283\n",
      "B    0.062690\n"
     ]
    }
   ],
   "source": [
    "# Конверсия\n",
    "\n",
    "conversion_rate = payments / group_sizes\n",
    "print(conversion_rate)"
   ]
  },
  {
   "cell_type": "code",
   "execution_count": 101,
   "metadata": {},
   "outputs": [],
   "source": [
    "# Итак, разница в конверсии между тестовой и контрольной группой составила ~0.56%. \n",
    "# Давайте проверим, является ли разница между группами A и B статистически значимой.\n",
    "# Нулевая гипотеза (H₀): Конверсии в группах A и B одинаковы.\n",
    "# Альтернативная гипотеза (H₁): Конверсии в группах A и B различаются."
   ]
  },
  {
   "cell_type": "code",
   "execution_count": 102,
   "metadata": {},
   "outputs": [
    {
     "name": "stdout",
     "output_type": "stream",
     "text": [
      "Z-статистика: 0.819\n",
      "P-значение: 0.41300\n"
     ]
    }
   ],
   "source": [
    "# Применим в рамках проверки z-тест для пропорций.\n",
    "\n",
    "# Число оплат в каждой группе\n",
    "successes = df.groupby('grp')['rev'].count().values\n",
    "\n",
    "# Общее количество пользователей в каждой группе\n",
    "samples = df.groupby('grp')['student_id'].count().values\n",
    "\n",
    "# z-тест для пропорций\n",
    "z_stat, p_val = proportions_ztest(successes, samples)\n",
    "\n",
    "print(f\"Z-статистика: {z_stat:.3f}\")\n",
    "print(f\"P-значение: {p_val:.5f}\")"
   ]
  },
  {
   "cell_type": "code",
   "execution_count": 103,
   "metadata": {},
   "outputs": [],
   "source": [
    "# P-значение 0.413 > 0.05, поэтому мы не можем отвергнуть нулевую гипотезу.\n",
    "# Нет статистически значимых различий между группами A и B.\n",
    "# Разница в конверсии (6.83% vs 6.27%) может быть обусловлена случайностью."
   ]
  },
  {
   "cell_type": "code",
   "execution_count": 104,
   "metadata": {},
   "outputs": [
    {
     "name": "stdout",
     "output_type": "stream",
     "text": [
      "grp\n",
      "A     860.710280\n",
      "B    1108.824893\n",
      "Name: rev, dtype: float64\n"
     ]
    }
   ],
   "source": [
    "# Давайте посмотрим на разницу в группах в рамках другой метрики: Доход на платящего пользователя (ARPPU).\n",
    "arppu = df[df['rev'] > 0].groupby('grp')['rev'].mean()\n",
    "print(arppu)"
   ]
  },
  {
   "cell_type": "code",
   "execution_count": 105,
   "metadata": {},
   "outputs": [
    {
     "name": "stdout",
     "output_type": "stream",
     "text": [
      "Shapiro A: ShapiroResult(statistic=0.7196124196052551, pvalue=5.321687643507211e-13)\n",
      "Shapiro B: ShapiroResult(statistic=0.8672363758087158, pvalue=8.947892893418603e-19)\n"
     ]
    }
   ],
   "source": [
    "# Судя по визуализации выше, распределение выручки не является нормальным. Но давайте ещё раз перепроверим это тестом Шапиро-Уилка.\n",
    "\n",
    "group_A = df[(df['rev'] > 0) & (df['grp'] == 'A')]['rev'] #платящие пользователи из контрольной группы\n",
    "group_B = df[(df['rev'] > 0) & (df['grp'] == 'B')]['rev'] #платящие пользователи из тестовой группы\n",
    "\n",
    "shapiro_A = ss.shapiro(group_A)\n",
    "shapiro_B = ss.shapiro(group_B)\n",
    "\n",
    "print(\"Shapiro A:\", shapiro_A)\n",
    "print(\"Shapiro B:\", shapiro_B)"
   ]
  },
  {
   "cell_type": "code",
   "execution_count": 106,
   "metadata": {},
   "outputs": [],
   "source": [
    "# P-значение у обеих групп ниже 0.05, поэтому мы не можем принять нулевую гипотезу у нормальности распределений."
   ]
  },
  {
   "cell_type": "code",
   "execution_count": 107,
   "metadata": {},
   "outputs": [
    {
     "name": "stdout",
     "output_type": "stream",
     "text": [
      "Levene test: stat = 4.4789, p = 0.0348\n"
     ]
    }
   ],
   "source": [
    "# Проверим гомогенность дисперсий тестом Левене:\n",
    "stat, p = ss.levene(group_A, group_B)\n",
    "print(f\"Levene test: stat = {stat:.4f}, p = {p:.4f}\")"
   ]
  },
  {
   "cell_type": "code",
   "execution_count": 108,
   "metadata": {},
   "outputs": [],
   "source": [
    "# P-значение выше 0.05, поэтому мы не можем отклонить нулевую гепотезу о равенстве дисперсий."
   ]
  },
  {
   "cell_type": "code",
   "execution_count": 128,
   "metadata": {},
   "outputs": [],
   "source": [
    "# Согласно тесту Шапиро–Уилка, распределения выручки в обеих группах ненормальны (p < 0.05), при этом дисперсии групп равны (тест Левене: p = 0.0803).\n",
    "# В связи с нарушением предпосылки нормальности, t-тест не применим. Вместо него используем бутстрап с 10 000 итерациями, что обеспечить корректную оценку разницы средних (ARPPU) при произвольных распределениях."
   ]
  },
  {
   "cell_type": "code",
   "execution_count": 130,
   "metadata": {},
   "outputs": [
    {
     "name": "stdout",
     "output_type": "stream",
     "text": [
      "Средняя разница (B - A): 248.0895\n",
      "95% доверительный интервал: [72.8740, 412.6419]\n"
     ]
    }
   ],
   "source": [
    "# Бутрстрап\n",
    "\n",
    "# Параметры\n",
    "n_iterations = 10000\n",
    "np.random.seed(42)  # для воспроизводимости\n",
    "\n",
    "# Bootstrap\n",
    "boot_diffs = []\n",
    "\n",
    "for _ in range(n_iterations):\n",
    "    sample_A = np.random.choice(group_A, size=len(group_A), replace=True)\n",
    "    sample_B = np.random.choice(group_B, size=len(group_B), replace=True)\n",
    "    diff = sample_B.mean() - sample_A.mean()  # разница B - A\n",
    "    boot_diffs.append(diff)\n",
    "\n",
    "# Конвертируем в массив\n",
    "boot_diffs = np.array(boot_diffs)\n",
    "\n",
    "# Доверительный интервал\n",
    "ci_lower = np.percentile(boot_diffs, 2.5)\n",
    "ci_upper = np.percentile(boot_diffs, 97.5)\n",
    "\n",
    "# Средняя разница\n",
    "mean_diff = boot_diffs.mean()\n",
    "\n",
    "# Результаты\n",
    "print(f\"Средняя разница (B - A): {mean_diff:.4f}\")\n",
    "print(f\"95% доверительный интервал: [{ci_lower:.4f}, {ci_upper:.4f}]\")"
   ]
  },
  {
   "cell_type": "code",
   "execution_count": 131,
   "metadata": {},
   "outputs": [
    {
     "data": {
      "image/png": "[encoded data removed]",
      "text/plain": [
       "<Figure size 432x288 with 1 Axes>"
      ]
     },
     "metadata": {
      "needs_background": "light"
     },
     "output_type": "display_data"
    }
   ],
   "source": [
    "# Визуализация бутстрапа:\n",
    "\n",
    "plt.hist(boot_diffs, bins=50, edgecolor='k')\n",
    "plt.axvline(ci_lower, color='red', linestyle='--', label='95% CI lower')\n",
    "plt.axvline(ci_upper, color='red', linestyle='--', label='95% CI upper')\n",
    "plt.axvline(0, color='black', linestyle=':')\n",
    "plt.title('Bootstrap распределение разницы ARPPU (B - A)')\n",
    "plt.xlabel('Разница средних')\n",
    "plt.ylabel('Частота')\n",
    "plt.legend()\n",
    "plt.show()"
   ]
  },
  {
   "cell_type": "code",
   "execution_count": 140,
   "metadata": {},
   "outputs": [],
   "source": [
    "# 95% доверительный интервал не содержит 0\n",
    "# Разница средних доходов от платящих пользователей между группами A и B статистически значима на уровне 95%.\n",
    "# Группа B приносит в среднем на 248 рубль больше на одного пользователя, чем группа A.\n",
    "# Мы можем с высокой уверенностью сказать, что новая механика оплаты услуг увеличивает ARPPU."
   ]
  },
  {
   "cell_type": "code",
   "execution_count": null,
   "metadata": {},
   "outputs": [],
   "source": []
  },
  {
   "cell_type": "code",
   "execution_count": 137,
   "metadata": {},
   "outputs": [],
   "source": [
    "# Создадим таблицу метрик\n",
    "metrics = pd.DataFrame({\n",
    "    'Метрика': ['Конверсия в оплату (CR)', 'ARPPU (₽)'],\n",
    "    'Группа A': ['6.83%', '860.71₽'],\n",
    "    'Группа B': ['6.27%', '1108.82₽'],\n",
    "    'Разница': ['-0.56%', '+248.08₽'],\n",
    "    'Стат. значимость': ['❌ Нет', '✅ Есть']\n",
    "})"
   ]
  },
  {
   "cell_type": "code",
   "execution_count": null,
   "metadata": {},
   "outputs": [],
   "source": []
  },
  {
   "cell_type": "code",
   "execution_count": 114,
   "metadata": {},
   "outputs": [],
   "source": [
    "# ИТОГИ A/B-ТЕСТА\n",
    "\n",
    "# Цель: оценить влияние новой механики оплаты на поведение пользователей и выручку."
   ]
  },
  {
   "cell_type": "code",
   "execution_count": 138,
   "metadata": {},
   "outputs": [
    {
     "name": "stdout",
     "output_type": "stream",
     "text": [
      "                   Метрика Группа A  Группа B   Разница Стат. значимость\n",
      "0  Конверсия в оплату (CR)    6.83%     6.27%    -0.56%            ❌ Нет\n",
      "1                ARPPU (₽)  860.71₽  1108.82₽  +248.08₽           ✅ Есть\n"
     ]
    }
   ],
   "source": [
    "# Ключевые метрики:\n",
    "print(metrics)"
   ]
  },
  {
   "cell_type": "code",
   "execution_count": 116,
   "metadata": {},
   "outputs": [],
   "source": [
    "# Конверсия в оплату немного ниже в новой группе, но не статистически значимо (p = 0.413). \n",
    "# Однако, новая механика приводит к существенному росту ARPPU: +248.08₽.\n",
    "# Пользователи, платящие по новой механике, платят значимо больше. \n",
    "# Разница в доходе подтверждена bootstrap-анализом (95% доверительный интервал не содержит 0)."
   ]
  },
  {
   "cell_type": "code",
   "execution_count": 117,
   "metadata": {},
   "outputs": [],
   "source": [
    "# Рекомендация: Рекомендуется внедрить новую механику на всех пользователей, так как она значимо увеличивает средний доход на платящего пользователя без ущерба для конверсии."
   ]
  },
  {
   "cell_type": "code",
   "execution_count": null,
   "metadata": {},
   "outputs": [],
   "source": [
    "# Реализуем функцию, которая будет автоматически подгружать информацию из дополнительного файла groups_add.csv (заголовки могут отличаться) и на основании дополнительных параметров пересчитывать метрики."
   ]
  },
  {
   "cell_type": "code",
   "execution_count": 149,
   "metadata": {},
   "outputs": [],
   "source": [
    "def analyze_ab_test_with_additional_data(\n",
    "    groups_path='groups.csv',\n",
    "    groups_add_path='group_add.csv',\n",
    "    active_path='active_studs.csv',\n",
    "    checks_path='checks.csv',\n",
    "    unify_column_names=True,\n",
    "    perform_bootstrap=True,\n",
    "    n_boot=10000,\n",
    "    seed=42\n",
    "):\n",
    "    # Шаг 1: Загрузка и объединение групп\n",
    "    groups = pd.read_csv(groups_path, sep=';')\n",
    "    groups_add = pd.read_csv(groups_add_path)\n",
    "\n",
    "    if unify_column_names:\n",
    "        groups.columns = groups.columns.str.lower().str.strip()\n",
    "        groups_add.columns = groups_add.columns.str.lower().str.strip()\n",
    "        groups = groups.rename(columns={'id': 'student_id'})\n",
    "        groups_add = groups_add.rename(columns={'id': 'student_id'})\n",
    "\n",
    "    groups_full = pd.concat([groups, groups_add], ignore_index=True)\n",
    "\n",
    "    # Шаг 2: Загрузка активных пользователей и оплат\n",
    "    active = pd.read_csv(active_path)\n",
    "    active.columns = active.columns.str.lower().str.strip()\n",
    "\n",
    "    checks = pd.read_csv(checks_path, sep=';')\n",
    "    checks.columns = checks.columns.str.lower().str.strip()\n",
    "\n",
    "    # Шаг 3: Создание списка активных (включая тех, кто оплатил, но не был активен)\n",
    "    active_ids = set(active['student_id'])\n",
    "    check_ids = set(checks['student_id'])\n",
    "\n",
    "    # Вычисляем недостающих активных пользователей из checks\n",
    "    missing_ids = check_ids - active_ids\n",
    "    if missing_ids:\n",
    "        print(f\"⚠️ Найдено {len(missing_ids)} пользователей в checks, которых нет в active_studs. Добавляем их.\")\n",
    "        # Создаём датафрейм с недостающими\n",
    "        missing_active = pd.DataFrame({'student_id': list(missing_ids)})\n",
    "        # Добавляем к списку активных\n",
    "        active = pd.concat([active, missing_active], ignore_index=True)\n",
    "\n",
    "    # Шаг 4: Фильтрация только активных пользователей\n",
    "    groups_active = groups_full[groups_full['student_id'].isin(active['student_id'])]\n",
    "\n",
    "    # Присоединяем группы к чекам\n",
    "    df = checks.merge(groups_active, on='student_id', how='inner')\n",
    "    df['grp'] = df['grp'].str.upper().str.strip()\n",
    "\n",
    "    # Метрика 1: Конверсия\n",
    "    total_users = groups_active.groupby('grp')['student_id'].nunique()\n",
    "    payers = df.groupby('grp')['student_id'].nunique()\n",
    "    conversion = (payers / total_users).fillna(0)\n",
    "\n",
    "    # Метрика 2: ARPU\n",
    "    arpu = df.groupby('grp')['rev'].mean()\n",
    "\n",
    "    # Метрика 3: Mann-Whitney U\n",
    "    group_a = df[df['grp'] == 'A']['rev']\n",
    "    group_b = df[df['grp'] == 'B']['rev']\n",
    "    stat, p_mw = ss.mannwhitneyu(group_a, group_b, alternative='two-sided')\n",
    "\n",
    "    # Метрика 4: Bootstrap\n",
    "    boot_result = None\n",
    "    if perform_bootstrap:\n",
    "        np.random.seed(seed)\n",
    "        boot_diffs = []\n",
    "        for _ in range(n_boot):\n",
    "            sample_a = np.random.choice(group_a, size=len(group_a), replace=True)\n",
    "            sample_b = np.random.choice(group_b, size=len(group_b), replace=True)\n",
    "            boot_diffs.append(sample_b.mean() - sample_a.mean())\n",
    "        boot_diffs = np.array(boot_diffs)\n",
    "        ci_low = np.percentile(boot_diffs, 2.5)\n",
    "        ci_high = np.percentile(boot_diffs, 97.5)\n",
    "        boot_result = {\n",
    "            'mean_diff': boot_diffs.mean(),\n",
    "            'ci_95': (ci_low, ci_high),\n",
    "            'significant': ci_low > 0 or ci_high < 0\n",
    "        }\n",
    "\n",
    "    # Финальный результат\n",
    "    result = {\n",
    "        'conversion': conversion.to_dict(),\n",
    "        'ARPU': arpu.to_dict(),\n",
    "        'Mann-Whitney p-value': round(p_mw, 5),\n",
    "        'bootstrap_ARPU_diff': boot_result\n",
    "    }\n",
    "\n",
    "    return result\n"
   ]
  },
  {
   "cell_type": "code",
   "execution_count": 150,
   "metadata": {},
   "outputs": [
    {
     "name": "stdout",
     "output_type": "stream",
     "text": [
      "⚠️ Найдено 149 пользователей в checks, которых нет в active_studs. Добавляем их.\n",
      "{'conversion': {'A': 0.06828334396936822, 'B': 0.06268958543983821}, 'ARPU': {'A': 860.7102803738318, 'B': 1108.824893087558}, 'Mann-Whitney p-value': 0.00019, 'bootstrap_ARPU_diff': {'mean_diff': 248.08951962716958, 'ci_95': (72.8739569218635, 412.64191730064806), 'significant': True}}\n"
     ]
    }
   ],
   "source": [
    "# Вызовем функцию, введя название файла с доп. пользователями, который нам прислали\n",
    "\n",
    "result = analyze_ab_test_with_additional_data(groups_add_path='group_add.csv')\n",
    "print(result)"
   ]
  },
  {
   "cell_type": "code",
   "execution_count": null,
   "metadata": {},
   "outputs": [],
   "source": [
    "# Реализуем функцию, которая будет строить графики по получаемым метрикам."
   ]
  },
  {
   "cell_type": "code",
   "execution_count": 151,
   "metadata": {},
   "outputs": [],
   "source": [
    "# Решение:\n",
    "\n",
    "def plot_ab_metrics(conversion_dict, arpu_dict):\n",
    "    # Стиль\n",
    "    sns.set(style='whitegrid')\n",
    "    fig, axes = plt.subplots(1, 2, figsize=(12, 5))\n",
    "\n",
    "    # 1. Конверсия\n",
    "    ax = axes[0]\n",
    "    conv_data = pd.DataFrame(list(conversion_dict.items()), columns=['Group', 'Conversion'])\n",
    "    sns.barplot(data=conv_data, x='Group', y='Conversion', palette='pastel', ax=ax)\n",
    "    ax.set_title('Конверсия в оплату')\n",
    "    ax.set_ylabel('Доля оплат')\n",
    "    ax.set_ylim(0, conv_data['Conversion'].max() * 1.2)\n",
    "\n",
    "    # 2. ARPPU\n",
    "    ax = axes[1]\n",
    "    arpu_data = pd.DataFrame(list(arpu_dict.items()), columns=['Group', 'ARPU'])\n",
    "    sns.barplot(data=arpu_data, x='Group', y='ARPU', palette='muted', ax=ax)\n",
    "    ax.set_title('ARPU (средняя выручка на пользователя)')\n",
    "    ax.set_ylabel('Рубли')\n",
    "    ax.set_ylim(0, arpu_data['ARPU'].max() * 1.2)\n",
    "\n",
    "    plt.tight_layout()\n",
    "    plt.show()"
   ]
  },
  {
   "cell_type": "code",
   "execution_count": 152,
   "metadata": {},
   "outputs": [
    {
     "data": {
      "image/png": "[encoded data removed]",
      "text/plain": [
       "<Figure size 864x360 with 2 Axes>"
      ]
     },
     "metadata": {},
     "output_type": "display_data"
    }
   ],
   "source": [
    "# Вызовем функцию, введя в неё результаты рассчитаных выше метрик:\n",
    "\n",
    "plot_ab_metrics(conversion_dict=result['conversion'], arpu_dict=result['ARPU'])"
   ]
  },
  {
   "cell_type": "code",
   "execution_count": null,
   "metadata": {},
   "outputs": [],
   "source": []
  }
 ],
 "metadata": {
  "kernelspec": {
   "display_name": "Python 3",
   "language": "python",
   "name": "python3"
  },
  "language_info": {
   "codemirror_mode": {
    "name": "ipython",
    "version": 3
   },
   "file_extension": ".py",
   "mimetype": "text/x-python",
   "name": "python",
   "nbconvert_exporter": "python",
   "pygments_lexer": "ipython3",
   "version": "3.7.3"
  }
 },
 "nbformat": 4,
 "nbformat_minor": 4
}
